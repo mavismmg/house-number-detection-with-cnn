{
 "cells": [
  {
   "cell_type": "code",
   "execution_count": 87,
   "metadata": {},
   "outputs": [
    {
     "name": "stdout",
     "output_type": "stream",
     "text": [
      "Collecting opencv-python\n",
      "  Downloading opencv_python-4.5.4.60-cp36-cp36m-win_amd64.whl (35.1 MB)\n",
      "Requirement already satisfied: numpy>=1.13.3 in d:\\anaconda\\envs\\cnn-number\\lib\\site-packages (from opencv-python) (1.17.0)\n",
      "Installing collected packages: opencv-python\n",
      "Successfully installed opencv-python-4.5.4.60\n"
     ]
    }
   ],
   "source": [
    "!pip install opencv-python"
   ]
  },
  {
   "cell_type": "code",
   "execution_count": 67,
   "metadata": {},
   "outputs": [],
   "source": [
    "import tensorflow.compat.v1 as tf\n",
    "import matplotlib.pyplot as plt\n",
    "import matplotlib.image as mpimg\n",
    "import random\n",
    "import cv2\n",
    "import glob\n",
    "import copy\n",
    "import os\n",
    "import errno\n",
    "from PIL import Image\n",
    "from tensorflow.python.client import device_lib\n",
    "from tensorflow.compat.v1.keras.preprocessing import image\n",
    "from tensorflow.compat.v1.keras.optimizers import Adam\n",
    "from tensorflow.compat.v1.keras.preprocessing.image import ImageDataGenerator"
   ]
  },
  {
   "cell_type": "code",
   "execution_count": 2,
   "metadata": {},
   "outputs": [
    {
     "data": {
      "text/plain": [
       "'1.15.5'"
      ]
     },
     "execution_count": 2,
     "metadata": {},
     "output_type": "execute_result"
    }
   ],
   "source": [
    "tf.__version__"
   ]
  },
  {
   "cell_type": "code",
   "execution_count": 3,
   "metadata": {},
   "outputs": [],
   "source": [
    "def test_gpu():\n",
    "    tf.enable_eager_execution(tf.ConfigProto(log_device_placement=True))\n",
    "    print(tf.add([1.0, 2.0], [3.0, 4.0])) # Create two tensors for gpu test."
   ]
  },
  {
   "cell_type": "code",
   "execution_count": 4,
   "metadata": {},
   "outputs": [
    {
     "name": "stdout",
     "output_type": "stream",
     "text": [
      "Executing op Add in device /job:localhost/replica:0/task:0/device:DML:0\n",
      "tf.Tensor([4. 6.], shape=(2,), dtype=float32)\n"
     ]
    }
   ],
   "source": [
    "test_gpu()"
   ]
  },
  {
   "cell_type": "code",
   "execution_count": 5,
   "metadata": {},
   "outputs": [],
   "source": [
    "def get_available_devices():\n",
    "    local_device_protos = device_lib.list_local_devices()\n",
    "    return [x.name for x in local_device_protos]"
   ]
  },
  {
   "cell_type": "code",
   "execution_count": 6,
   "metadata": {},
   "outputs": [
    {
     "name": "stdout",
     "output_type": "stream",
     "text": [
      "['/device:CPU:0', '/device:DML:0', '/device:DML:1']\n"
     ]
    }
   ],
   "source": [
    "print(get_available_devices()) # Return a list of devices we can use in the notebook."
   ]
  },
  {
   "cell_type": "code",
   "execution_count": 7,
   "metadata": {},
   "outputs": [],
   "source": [
    "rands = []\n",
    "\n",
    "for iter_ in range(1, 11):\n",
    "    rand = random.randint(1, 50)\n",
    "    rands.append(rand)"
   ]
  },
  {
   "cell_type": "code",
   "execution_count": 8,
   "metadata": {},
   "outputs": [
    {
     "name": "stdout",
     "output_type": "stream",
     "text": [
      "[26, 18, 10, 31, 12, 28, 31, 26, 34, 1]\n"
     ]
    }
   ],
   "source": [
    "print(rands)"
   ]
  },
  {
   "cell_type": "code",
   "execution_count": 11,
   "metadata": {},
   "outputs": [],
   "source": [
    "def image_view(dir_, rands):\n",
    "    img = 1\n",
    "    for image in dir_:\n",
    "        plt.subplot(4, 4, img)\n",
    "        plt.imshow(\n",
    "            mpimg.imread('{dir_}/{rands}.png'.format(dir_=dir_, rands=rands[img]))\n",
    "        )\n",
    "        plt.axis('off')\n",
    "        plt.show()\n",
    "        print(\n",
    "            'Image shape:', (mpimg.imread('{dir_}/{rands}.png'.format(dir_=dir_, rands=rands[img])).shape),\n",
    "            'Color Depth:', (mpimg.imread('{dir_}/{rands}.png'.format(dir_=dir_, rands=rands[img])).max())\n",
    "        )\n",
    "        img = img + 1"
   ]
  },
  {
   "cell_type": "code",
   "execution_count": 12,
   "metadata": {},
   "outputs": [
    {
     "data": {
      "image/png": "[encoded data removed]",
      "text/plain": [
       "<Figure size 432x288 with 1 Axes>"
      ]
     },
     "metadata": {
      "needs_background": "light"
     },
     "output_type": "display_data"
    },
    {
     "name": "stdout",
     "output_type": "stream",
     "text": [
      "Image shape: (78, 161, 3) Color Depth: 1.0\n"
     ]
    },
    {
     "data": {
      "image/png": "[encoded data removed]",
      "text/plain": [
       "<Figure size 432x288 with 1 Axes>"
      ]
     },
     "metadata": {
      "needs_background": "light"
     },
     "output_type": "display_data"
    },
    {
     "name": "stdout",
     "output_type": "stream",
     "text": [
      "Image shape: (37, 74, 3) Color Depth: 0.80784315\n"
     ]
    },
    {
     "data": {
      "image/png": "[encoded data removed]",
      "text/plain": [
       "<Figure size 432x288 with 1 Axes>"
      ]
     },
     "metadata": {
      "needs_background": "light"
     },
     "output_type": "display_data"
    },
    {
     "name": "stdout",
     "output_type": "stream",
     "text": [
      "Image shape: (21, 60, 3) Color Depth: 0.9490196\n"
     ]
    },
    {
     "data": {
      "image/png": "[encoded data removed]",
      "text/plain": [
       "<Figure size 432x288 with 1 Axes>"
      ]
     },
     "metadata": {
      "needs_background": "light"
     },
     "output_type": "display_data"
    },
    {
     "name": "stdout",
     "output_type": "stream",
     "text": [
      "Image shape: (87, 171, 3) Color Depth: 0.5921569\n"
     ]
    },
    {
     "data": {
      "image/png": "[encoded data removed]",
      "text/plain": [
       "<Figure size 432x288 with 1 Axes>"
      ]
     },
     "metadata": {
      "needs_background": "light"
     },
     "output_type": "display_data"
    },
    {
     "name": "stdout",
     "output_type": "stream",
     "text": [
      "Image shape: (47, 87, 3) Color Depth: 0.84705883\n"
     ]
    }
   ],
   "source": [
    "image_view('train', rands)"
   ]
  },
  {
   "cell_type": "code",
   "execution_count": 13,
   "metadata": {},
   "outputs": [],
   "source": [
    "def append_images(dir_):\n",
    "    imgs = []\n",
    "    for image in glob.glob(dir_ + '/*.png'):\n",
    "        img = copy.deepcopy(Image.open(image))\n",
    "        imgs.append(img)\n",
    "    \n",
    "    print('Total appended images:', len(imgs))\n",
    "    \n",
    "    return imgs"
   ]
  },
  {
   "cell_type": "code",
   "execution_count": 14,
   "metadata": {},
   "outputs": [
    {
     "name": "stdout",
     "output_type": "stream",
     "text": [
      "Total appended images: 33402\n"
     ]
    }
   ],
   "source": [
    "imgs = append_images('train')"
   ]
  },
  {
   "cell_type": "code",
   "execution_count": 95,
   "metadata": {},
   "outputs": [],
   "source": [
    "def image_to_gray(path, d_path):\n",
    "    imgs_grayscale = []\n",
    "    one_channel_count = 0\n",
    "    images = [i for i in os.listdir(path) if os.path.isfile(os.path.join(path, i))]\n",
    "    print('Joined in:', path)\n",
    "    for image in images:\n",
    "        try:\n",
    "            img = cv2.imread(image).copy()\n",
    "            img_g = cv2.cvtColor(img, cv2.COLOR_BGR2GRAY)\n",
    "            cv2.imwrite(os.path.join(d_path, image), img_g)\n",
    "        except:\n",
    "            one_channel_count = one_channel_count + 1\n",
    "            \n",
    "    print('Not convterted, images with one channel color:', one_channel_count)\n",
    "    \n",
    "    return imgs_grayscale"
   ]
  },
  {
   "cell_type": "code",
   "execution_count": 96,
   "metadata": {},
   "outputs": [
    {
     "name": "stdout",
     "output_type": "stream",
     "text": [
      "Warning: train_gray directory already exist\n",
      "Joined in: train/\n",
      "Not convterted, images with one channel color: 33404\n"
     ]
    }
   ],
   "source": [
    "path = r'train/'\n",
    "d_path = 'train_gray/'\n",
    "\n",
    "try:\n",
    "    os.makedirs(d_path)\n",
    "except:\n",
    "    print('Warning: train_gray directory already exist')\n",
    "        \n",
    "imgs_g = image_to_gray(path, d_path)"
   ]
  },
  {
   "cell_type": "code",
   "execution_count": 127,
   "metadata": {},
   "outputs": [],
   "source": [
    "def image_resize(path, d_path, dim):\n",
    "    imgs_resized = []\n",
    "    resized = 0\n",
    "    images = list(filter(lambda i: os.path.isfile(os.path.join(path, i)), os.listdir(path)))\n",
    "    print('Joined in:', path)\n",
    "    for image in glob.glob(path + '*.png'):\n",
    "        img = cv2.imread(image)\n",
    "        img_r = cv2.resize(img, dim, interpolation=cv2.INTER_AREA)\n",
    "        cv2.imwrite(os.path.join(d_path, image), img_r)\n",
    "            \n",
    "    print('Not convterted, images with one channel color:', resized)\n",
    "    \n",
    "    return imgs_resized"
   ]
  },
  {
   "cell_type": "code",
   "execution_count": 129,
   "metadata": {},
   "outputs": [
    {
     "name": "stdout",
     "output_type": "stream",
     "text": [
      "Warning: train_resized directory already exist\n",
      "Joined in: train/\n",
      "Not convterted, images with one channel color: 0\n"
     ]
    }
   ],
   "source": [
    "path = 'train/'\n",
    "d_path = 'train_resized/'\n",
    "dim=(32, 32)\n",
    "\n",
    "try:\n",
    "    os.makedirs(d_path)\n",
    "except:\n",
    "    print('Warning: train_resized directory already exist')\n",
    "    \n",
    "imgs_resized = image_resize(path, d_path, dim)"
   ]
  },
  {
   "cell_type": "code",
   "execution_count": 130,
   "metadata": {},
   "outputs": [],
   "source": [
    "def datagens():\n",
    "    train_datagen = ImageDataGenerator(\n",
    "        rescale=1./255, # Appling feature scaling.\n",
    "        shear_range=0.2, # Shear transformation.\n",
    "        zoom_range=0.2, # Zoom transformation.\n",
    "        horizontal_flip=True # Flipping image transformation. \n",
    "    )\n",
    "    \n",
    "    test_datagen = ImageDataGenerator(rescale=1./255) # Appling feature scaling.\n",
    "    \n",
    "    return train_datagen, test_datagen"
   ]
  },
  {
   "cell_type": "code",
   "execution_count": 131,
   "metadata": {},
   "outputs": [],
   "source": [
    "train_datagen, test_datagen = datagens()"
   ]
  },
  {
   "cell_type": "code",
   "execution_count": 132,
   "metadata": {},
   "outputs": [],
   "source": [
    "train_path = 'train/'\n",
    "test_path = 'test/'"
   ]
  },
  {
   "cell_type": "code",
   "execution_count": 133,
   "metadata": {},
   "outputs": [],
   "source": [
    "def datagenerator(train_path, test_path):\n",
    "    train_generator = train_datagen.flow_from_directory(\n",
    "        train_path, # Get training directory.\n",
    "        target_size=(32, 32), # Resize target_size to train by 32x32.\n",
    "        batch_size=16, # Set 16 training samples.\n",
    "        class_mode='binary'\n",
    "    )\n",
    "    \n",
    "    test_generator = test_datagen.flow_from_directory(\n",
    "        test_path, # Get testing directory.\n",
    "        target_size=(32, 32), # Resize target_size to test by 32x32.\n",
    "        batch_size=16, # Set 16 training samples.\n",
    "        class_mode='binary'\n",
    "    \n",
    "    return train_generator, test_generator"
   ]
  },
  {
   "cell_type": "code",
   "execution_count": 134,
   "metadata": {},
   "outputs": [
    {
     "name": "stdout",
     "output_type": "stream",
     "text": [
      "Found 0 images belonging to 0 classes.\n",
      "Found 0 images belonging to 0 classes.\n"
     ]
    }
   ],
   "source": [
    "train_generator, test_generator = datagenerator(train_path, test_path)"
   ]
  },
  {
   "cell_type": "code",
   "execution_count": null,
   "metadata": {},
   "outputs": [],
   "source": [
    "def model():\n",
    "    model = tf.keras.models.Sequential()\n",
    "    \n",
    "    model.add(\n",
    "        tf.keras.layers.Conv2D(\n",
    "        filters=16, # Number of ouput filters in the convolution.\n",
    "        kernel_size=3, # Height and Width of the 2D convolution window.\n",
    "        activation='relu', # Activation function, set as relu.\n",
    "        input_shape=(32, 32, 3) # Desired input shape, matching target_size.\n",
    "        )\n",
    "    )\n",
    "\n",
    "    model.add(\n",
    "        tf.keras.layers.MaxPool2D(\n",
    "        pool_size=2, # Pooling window size. In this case (2, 2).\n",
    "        strides=2 # Move distance for each pool step.\n",
    "        )\n",
    "    )\n",
    "\n",
    "    model.add(\n",
    "        tf.keras.layers.Conv2D(\n",
    "        filters=16, # Number of ouput filters in the convolution.\n",
    "        kernel_size=3, # Height and Width of the 2D convolution window.\n",
    "        activation='relu' # Activation function, set as relu.\n",
    "        )\n",
    "    )\n",
    "\n",
    "    model.add(\n",
    "        tf.keras.layers.MaxPooling2D(\n",
    "        pool_size=2, # Pooling window size. In this case (2, 2).\n",
    "        strides=2 # Move distance for each pool step.\n",
    "        )\n",
    "    )\n",
    "    \n",
    "    model.add(\n",
    "        tf.keras.layers.Flatten()\n",
    "    )\n",
    "    \n",
    "    model.add(\n",
    "        tf.keras.layers.Dense(\n",
    "            units=64,\n",
    "            activation='relu'\n",
    "        )\n",
    "    )\n",
    "    \n",
    "    model.add(\n",
    "        tf.keras.layers.Dense(\n",
    "            units=1,\n",
    "            activation='relu'\n",
    "        )\n",
    "    )\n",
    "    \n",
    "    model.compile(\n",
    "        optimizer=Adam(0.0001),\n",
    "        loss='binary_crossentropy',\n",
    "        metrics=['accuracy']\n",
    "    )\n",
    "    \n",
    "    return model"
   ]
  },
  {
   "cell_type": "code",
   "execution_count": null,
   "metadata": {},
   "outputs": [],
   "source": [
    "model = model()"
   ]
  },
  {
   "cell_type": "code",
   "execution_count": null,
   "metadata": {},
   "outputs": [],
   "source": [
    "model.summary()"
   ]
  }
 ],
 "metadata": {
  "kernelspec": {
   "display_name": "Python 3",
   "language": "python",
   "name": "python3"
  },
  "language_info": {
   "codemirror_mode": {
    "name": "ipython",
    "version": 3
   },
   "file_extension": ".py",
   "mimetype": "text/x-python",
   "name": "python",
   "nbconvert_exporter": "python",
   "pygments_lexer": "ipython3",
   "version": "3.6.10"
  }
 },
 "nbformat": 4,
 "nbformat_minor": 4
}
